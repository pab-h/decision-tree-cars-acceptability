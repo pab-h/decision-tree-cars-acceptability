{
 "cells": [
  {
   "cell_type": "markdown",
   "id": "533421b1",
   "metadata": {},
   "source": [
    "# Bibliotecas"
   ]
  },
  {
   "cell_type": "code",
   "execution_count": 713,
   "id": "9f0c712a",
   "metadata": {},
   "outputs": [],
   "source": [
    "import pandas as pd\n",
    "import numpy  as np\n",
    "\n",
    "from sklearn.model_selection import train_test_split\n",
    "from sklearn.model_selection import StratifiedKFold\n",
    "\n",
    "from sklearn.metrics import accuracy_score\n",
    "from sklearn.metrics import precision_score\n",
    "from sklearn.metrics import recall_score\n",
    "from sklearn.metrics import f1_score\n",
    "from sklearn.metrics import confusion_matrix"
   ]
  },
  {
   "cell_type": "markdown",
   "id": "6818256a",
   "metadata": {},
   "source": [
    "# Metadata"
   ]
  },
  {
   "cell_type": "code",
   "execution_count": 714,
   "id": "5da9ef96",
   "metadata": {},
   "outputs": [],
   "source": [
    "dataFolder = \"./data\""
   ]
  },
  {
   "cell_type": "markdown",
   "id": "2e43c3d8",
   "metadata": {},
   "source": [
    "# Carregando a base de dados"
   ]
  },
  {
   "cell_type": "code",
   "execution_count": 715,
   "id": "e0bc22e6",
   "metadata": {},
   "outputs": [],
   "source": [
    "cars = pd.read_csv(f\"{dataFolder}/car.csv\")"
   ]
  },
  {
   "cell_type": "code",
   "execution_count": 716,
   "id": "462729ea",
   "metadata": {},
   "outputs": [
    {
     "data": {
      "text/plain": [
       "(1728, 7)"
      ]
     },
     "execution_count": 716,
     "metadata": {},
     "output_type": "execute_result"
    }
   ],
   "source": [
    "cars.shape"
   ]
  },
  {
   "cell_type": "code",
   "execution_count": 717,
   "id": "6f16740a",
   "metadata": {},
   "outputs": [
    {
     "data": {
      "text/html": [
       "<div>\n",
       "<style scoped>\n",
       "    .dataframe tbody tr th:only-of-type {\n",
       "        vertical-align: middle;\n",
       "    }\n",
       "\n",
       "    .dataframe tbody tr th {\n",
       "        vertical-align: top;\n",
       "    }\n",
       "\n",
       "    .dataframe thead th {\n",
       "        text-align: right;\n",
       "    }\n",
       "</style>\n",
       "<table border=\"1\" class=\"dataframe\">\n",
       "  <thead>\n",
       "    <tr style=\"text-align: right;\">\n",
       "      <th></th>\n",
       "      <th>Buying_Price</th>\n",
       "      <th>Maintenance_Price</th>\n",
       "      <th>No_of_Doors</th>\n",
       "      <th>Person_Capacity</th>\n",
       "      <th>Size_of_Luggage</th>\n",
       "      <th>Safety</th>\n",
       "      <th>Car_Acceptability</th>\n",
       "    </tr>\n",
       "  </thead>\n",
       "  <tbody>\n",
       "    <tr>\n",
       "      <th>759</th>\n",
       "      <td>high</td>\n",
       "      <td>low</td>\n",
       "      <td>2</td>\n",
       "      <td>2</td>\n",
       "      <td>med</td>\n",
       "      <td>low</td>\n",
       "      <td>unacc</td>\n",
       "    </tr>\n",
       "    <tr>\n",
       "      <th>1399</th>\n",
       "      <td>low</td>\n",
       "      <td>vhigh</td>\n",
       "      <td>5more</td>\n",
       "      <td>more</td>\n",
       "      <td>med</td>\n",
       "      <td>med</td>\n",
       "      <td>acc</td>\n",
       "    </tr>\n",
       "    <tr>\n",
       "      <th>989</th>\n",
       "      <td>med</td>\n",
       "      <td>high</td>\n",
       "      <td>2</td>\n",
       "      <td>4</td>\n",
       "      <td>big</td>\n",
       "      <td>high</td>\n",
       "      <td>acc</td>\n",
       "    </tr>\n",
       "    <tr>\n",
       "      <th>1569</th>\n",
       "      <td>low</td>\n",
       "      <td>med</td>\n",
       "      <td>4</td>\n",
       "      <td>2</td>\n",
       "      <td>med</td>\n",
       "      <td>low</td>\n",
       "      <td>unacc</td>\n",
       "    </tr>\n",
       "    <tr>\n",
       "      <th>1179</th>\n",
       "      <td>med</td>\n",
       "      <td>med</td>\n",
       "      <td>5more</td>\n",
       "      <td>more</td>\n",
       "      <td>small</td>\n",
       "      <td>low</td>\n",
       "      <td>unacc</td>\n",
       "    </tr>\n",
       "    <tr>\n",
       "      <th>429</th>\n",
       "      <td>vhigh</td>\n",
       "      <td>low</td>\n",
       "      <td>5more</td>\n",
       "      <td>more</td>\n",
       "      <td>big</td>\n",
       "      <td>low</td>\n",
       "      <td>unacc</td>\n",
       "    </tr>\n",
       "    <tr>\n",
       "      <th>81</th>\n",
       "      <td>vhigh</td>\n",
       "      <td>vhigh</td>\n",
       "      <td>5more</td>\n",
       "      <td>2</td>\n",
       "      <td>small</td>\n",
       "      <td>low</td>\n",
       "      <td>unacc</td>\n",
       "    </tr>\n",
       "    <tr>\n",
       "      <th>1725</th>\n",
       "      <td>low</td>\n",
       "      <td>low</td>\n",
       "      <td>5more</td>\n",
       "      <td>more</td>\n",
       "      <td>big</td>\n",
       "      <td>low</td>\n",
       "      <td>unacc</td>\n",
       "    </tr>\n",
       "    <tr>\n",
       "      <th>855</th>\n",
       "      <td>high</td>\n",
       "      <td>low</td>\n",
       "      <td>5more</td>\n",
       "      <td>more</td>\n",
       "      <td>small</td>\n",
       "      <td>low</td>\n",
       "      <td>unacc</td>\n",
       "    </tr>\n",
       "    <tr>\n",
       "      <th>408</th>\n",
       "      <td>vhigh</td>\n",
       "      <td>low</td>\n",
       "      <td>5more</td>\n",
       "      <td>2</td>\n",
       "      <td>med</td>\n",
       "      <td>low</td>\n",
       "      <td>unacc</td>\n",
       "    </tr>\n",
       "  </tbody>\n",
       "</table>\n",
       "</div>"
      ],
      "text/plain": [
       "     Buying_Price Maintenance_Price No_of_Doors Person_Capacity  \\\n",
       "759          high               low           2               2   \n",
       "1399          low             vhigh       5more            more   \n",
       "989           med              high           2               4   \n",
       "1569          low               med           4               2   \n",
       "1179          med               med       5more            more   \n",
       "429         vhigh               low       5more            more   \n",
       "81          vhigh             vhigh       5more               2   \n",
       "1725          low               low       5more            more   \n",
       "855          high               low       5more            more   \n",
       "408         vhigh               low       5more               2   \n",
       "\n",
       "     Size_of_Luggage Safety Car_Acceptability  \n",
       "759              med    low             unacc  \n",
       "1399             med    med               acc  \n",
       "989              big   high               acc  \n",
       "1569             med    low             unacc  \n",
       "1179           small    low             unacc  \n",
       "429              big    low             unacc  \n",
       "81             small    low             unacc  \n",
       "1725             big    low             unacc  \n",
       "855            small    low             unacc  \n",
       "408              med    low             unacc  "
      ]
     },
     "execution_count": 717,
     "metadata": {},
     "output_type": "execute_result"
    }
   ],
   "source": [
    "cars.sample(10)"
   ]
  },
  {
   "cell_type": "markdown",
   "id": "f9ff0593",
   "metadata": {},
   "source": [
    "# Explorando os atributos do dataset"
   ]
  },
  {
   "cell_type": "code",
   "execution_count": 718,
   "id": "280ec650",
   "metadata": {},
   "outputs": [
    {
     "data": {
      "text/plain": [
       "Buying_Price\n",
       "vhigh    432\n",
       "high     432\n",
       "med      432\n",
       "low      432\n",
       "Name: count, dtype: int64"
      ]
     },
     "execution_count": 718,
     "metadata": {},
     "output_type": "execute_result"
    }
   ],
   "source": [
    "cars['Buying_Price'].value_counts()"
   ]
  },
  {
   "cell_type": "code",
   "execution_count": 719,
   "id": "3e8c279e",
   "metadata": {},
   "outputs": [
    {
     "data": {
      "text/plain": [
       "Maintenance_Price\n",
       "vhigh    432\n",
       "high     432\n",
       "med      432\n",
       "low      432\n",
       "Name: count, dtype: int64"
      ]
     },
     "execution_count": 719,
     "metadata": {},
     "output_type": "execute_result"
    }
   ],
   "source": [
    "cars['Maintenance_Price'].value_counts()"
   ]
  },
  {
   "cell_type": "code",
   "execution_count": 720,
   "id": "3f975f9e",
   "metadata": {},
   "outputs": [
    {
     "data": {
      "text/plain": [
       "No_of_Doors\n",
       "2        432\n",
       "3        432\n",
       "4        432\n",
       "5more    432\n",
       "Name: count, dtype: int64"
      ]
     },
     "execution_count": 720,
     "metadata": {},
     "output_type": "execute_result"
    }
   ],
   "source": [
    "cars['No_of_Doors'].value_counts()"
   ]
  },
  {
   "cell_type": "code",
   "execution_count": 721,
   "id": "f761967a",
   "metadata": {},
   "outputs": [
    {
     "data": {
      "text/plain": [
       "Size_of_Luggage\n",
       "small    576\n",
       "med      576\n",
       "big      576\n",
       "Name: count, dtype: int64"
      ]
     },
     "execution_count": 721,
     "metadata": {},
     "output_type": "execute_result"
    }
   ],
   "source": [
    "cars['Size_of_Luggage'].value_counts()"
   ]
  },
  {
   "cell_type": "code",
   "execution_count": 722,
   "id": "a1a1d620",
   "metadata": {},
   "outputs": [
    {
     "data": {
      "text/plain": [
       "Safety\n",
       "low     576\n",
       "med     576\n",
       "high    576\n",
       "Name: count, dtype: int64"
      ]
     },
     "execution_count": 722,
     "metadata": {},
     "output_type": "execute_result"
    }
   ],
   "source": [
    "cars['Safety'].value_counts()"
   ]
  },
  {
   "cell_type": "code",
   "execution_count": 723,
   "id": "7f54320e",
   "metadata": {},
   "outputs": [
    {
     "data": {
      "text/plain": [
       "Car_Acceptability\n",
       "unacc    1210\n",
       "acc       384\n",
       "good       69\n",
       "vgood      65\n",
       "Name: count, dtype: int64"
      ]
     },
     "execution_count": 723,
     "metadata": {},
     "output_type": "execute_result"
    }
   ],
   "source": [
    "cars['Car_Acceptability'].value_counts()"
   ]
  },
  {
   "cell_type": "markdown",
   "id": "dc3cb25e",
   "metadata": {},
   "source": [
    "# Pré processando o dataset"
   ]
  },
  {
   "cell_type": "markdown",
   "id": "4d12a500",
   "metadata": {},
   "source": [
    "Binarizando as classes"
   ]
  },
  {
   "cell_type": "code",
   "execution_count": 724,
   "id": "23643b99",
   "metadata": {},
   "outputs": [
    {
     "data": {
      "text/plain": [
       "Car_Acceptability\n",
       "unacc    1210\n",
       "acc       384\n",
       "good       69\n",
       "vgood      65\n",
       "Name: count, dtype: int64"
      ]
     },
     "execution_count": 724,
     "metadata": {},
     "output_type": "execute_result"
    }
   ],
   "source": [
    "cars['Car_Acceptability'].value_counts()"
   ]
  },
  {
   "cell_type": "code",
   "execution_count": 725,
   "id": "5a95f31c",
   "metadata": {},
   "outputs": [],
   "source": [
    "cars['Car_Acceptability'] = cars['Car_Acceptability'].replace('good' , 'acc')\n",
    "cars['Car_Acceptability'] = cars['Car_Acceptability'].replace('vgood', 'acc')"
   ]
  },
  {
   "cell_type": "code",
   "execution_count": 726,
   "id": "dbca396b",
   "metadata": {},
   "outputs": [
    {
     "data": {
      "text/plain": [
       "Car_Acceptability\n",
       "unacc    1210\n",
       "acc       518\n",
       "Name: count, dtype: int64"
      ]
     },
     "execution_count": 726,
     "metadata": {},
     "output_type": "execute_result"
    }
   ],
   "source": [
    "cars['Car_Acceptability'].value_counts()"
   ]
  },
  {
   "cell_type": "markdown",
   "id": "fb9919ae",
   "metadata": {},
   "source": [
    "Renomeando a coluna 'Car_Acceptability' para 'class'"
   ]
  },
  {
   "cell_type": "code",
   "execution_count": 727,
   "id": "43286686",
   "metadata": {},
   "outputs": [],
   "source": [
    "cars = cars.rename(columns = { 'Car_Acceptability': 'class' })"
   ]
  },
  {
   "cell_type": "markdown",
   "id": "f39da305",
   "metadata": {},
   "source": [
    "Padronizando os nomes das colunas"
   ]
  },
  {
   "cell_type": "code",
   "execution_count": 728,
   "id": "74c4a099",
   "metadata": {},
   "outputs": [],
   "source": [
    "def toCamelCase(text: str):\n",
    "\twords \t\t   = text.replace('_', ' ').split()\n",
    "\tcamelCaseWords = [words[0].lower()] + [word.capitalize() for word in words[1:]]\n",
    "\t\n",
    "\treturn \"\".join(camelCaseWords)"
   ]
  },
  {
   "cell_type": "code",
   "execution_count": 729,
   "id": "33303cca",
   "metadata": {},
   "outputs": [],
   "source": [
    "renamedColumns = cars.columns.tolist()\n",
    "renamedColumns = map(lambda column: column.lower(), renamedColumns)\n",
    "renamedColumns = map(toCamelCase, renamedColumns)\n",
    "renamedColumns = list(renamedColumns)"
   ]
  },
  {
   "cell_type": "code",
   "execution_count": 730,
   "id": "00df8379",
   "metadata": {},
   "outputs": [],
   "source": [
    "cars.columns = renamedColumns"
   ]
  },
  {
   "cell_type": "code",
   "execution_count": 731,
   "id": "92d801ed",
   "metadata": {},
   "outputs": [
    {
     "data": {
      "text/html": [
       "<div>\n",
       "<style scoped>\n",
       "    .dataframe tbody tr th:only-of-type {\n",
       "        vertical-align: middle;\n",
       "    }\n",
       "\n",
       "    .dataframe tbody tr th {\n",
       "        vertical-align: top;\n",
       "    }\n",
       "\n",
       "    .dataframe thead th {\n",
       "        text-align: right;\n",
       "    }\n",
       "</style>\n",
       "<table border=\"1\" class=\"dataframe\">\n",
       "  <thead>\n",
       "    <tr style=\"text-align: right;\">\n",
       "      <th></th>\n",
       "      <th>buyingPrice</th>\n",
       "      <th>maintenancePrice</th>\n",
       "      <th>noOfDoors</th>\n",
       "      <th>personCapacity</th>\n",
       "      <th>sizeOfLuggage</th>\n",
       "      <th>safety</th>\n",
       "      <th>class</th>\n",
       "    </tr>\n",
       "  </thead>\n",
       "  <tbody>\n",
       "    <tr>\n",
       "      <th>574</th>\n",
       "      <td>high</td>\n",
       "      <td>high</td>\n",
       "      <td>3</td>\n",
       "      <td>2</td>\n",
       "      <td>big</td>\n",
       "      <td>med</td>\n",
       "      <td>unacc</td>\n",
       "    </tr>\n",
       "    <tr>\n",
       "      <th>510</th>\n",
       "      <td>high</td>\n",
       "      <td>vhigh</td>\n",
       "      <td>4</td>\n",
       "      <td>more</td>\n",
       "      <td>big</td>\n",
       "      <td>low</td>\n",
       "      <td>unacc</td>\n",
       "    </tr>\n",
       "    <tr>\n",
       "      <th>265</th>\n",
       "      <td>vhigh</td>\n",
       "      <td>med</td>\n",
       "      <td>3</td>\n",
       "      <td>more</td>\n",
       "      <td>med</td>\n",
       "      <td>med</td>\n",
       "      <td>acc</td>\n",
       "    </tr>\n",
       "    <tr>\n",
       "      <th>307</th>\n",
       "      <td>vhigh</td>\n",
       "      <td>med</td>\n",
       "      <td>5more</td>\n",
       "      <td>4</td>\n",
       "      <td>small</td>\n",
       "      <td>med</td>\n",
       "      <td>unacc</td>\n",
       "    </tr>\n",
       "    <tr>\n",
       "      <th>1210</th>\n",
       "      <td>med</td>\n",
       "      <td>low</td>\n",
       "      <td>2</td>\n",
       "      <td>more</td>\n",
       "      <td>med</td>\n",
       "      <td>med</td>\n",
       "      <td>acc</td>\n",
       "    </tr>\n",
       "    <tr>\n",
       "      <th>54</th>\n",
       "      <td>vhigh</td>\n",
       "      <td>vhigh</td>\n",
       "      <td>4</td>\n",
       "      <td>2</td>\n",
       "      <td>small</td>\n",
       "      <td>low</td>\n",
       "      <td>unacc</td>\n",
       "    </tr>\n",
       "    <tr>\n",
       "      <th>834</th>\n",
       "      <td>high</td>\n",
       "      <td>low</td>\n",
       "      <td>4</td>\n",
       "      <td>more</td>\n",
       "      <td>big</td>\n",
       "      <td>low</td>\n",
       "      <td>unacc</td>\n",
       "    </tr>\n",
       "    <tr>\n",
       "      <th>1286</th>\n",
       "      <td>med</td>\n",
       "      <td>low</td>\n",
       "      <td>5more</td>\n",
       "      <td>4</td>\n",
       "      <td>big</td>\n",
       "      <td>high</td>\n",
       "      <td>acc</td>\n",
       "    </tr>\n",
       "    <tr>\n",
       "      <th>634</th>\n",
       "      <td>high</td>\n",
       "      <td>high</td>\n",
       "      <td>5more</td>\n",
       "      <td>4</td>\n",
       "      <td>med</td>\n",
       "      <td>med</td>\n",
       "      <td>acc</td>\n",
       "    </tr>\n",
       "    <tr>\n",
       "      <th>673</th>\n",
       "      <td>high</td>\n",
       "      <td>med</td>\n",
       "      <td>2</td>\n",
       "      <td>more</td>\n",
       "      <td>big</td>\n",
       "      <td>med</td>\n",
       "      <td>acc</td>\n",
       "    </tr>\n",
       "  </tbody>\n",
       "</table>\n",
       "</div>"
      ],
      "text/plain": [
       "     buyingPrice maintenancePrice noOfDoors personCapacity sizeOfLuggage  \\\n",
       "574         high             high         3              2           big   \n",
       "510         high            vhigh         4           more           big   \n",
       "265        vhigh              med         3           more           med   \n",
       "307        vhigh              med     5more              4         small   \n",
       "1210         med              low         2           more           med   \n",
       "54         vhigh            vhigh         4              2         small   \n",
       "834         high              low         4           more           big   \n",
       "1286         med              low     5more              4           big   \n",
       "634         high             high     5more              4           med   \n",
       "673         high              med         2           more           big   \n",
       "\n",
       "     safety  class  \n",
       "574     med  unacc  \n",
       "510     low  unacc  \n",
       "265     med    acc  \n",
       "307     med  unacc  \n",
       "1210    med    acc  \n",
       "54      low  unacc  \n",
       "834     low  unacc  \n",
       "1286   high    acc  \n",
       "634     med    acc  \n",
       "673     med    acc  "
      ]
     },
     "execution_count": 731,
     "metadata": {},
     "output_type": "execute_result"
    }
   ],
   "source": [
    "cars.sample(10)"
   ]
  },
  {
   "cell_type": "markdown",
   "id": "8cd10d12",
   "metadata": {},
   "source": [
    "# Definição da Árvore de Decisão"
   ]
  },
  {
   "cell_type": "code",
   "execution_count": null,
   "id": "3b31a843",
   "metadata": {},
   "outputs": [],
   "source": [
    "class Node(object):\n",
    "\tdef __init__(self):\n",
    "\n",
    "\t\tself.branches   \t = {}\n",
    "\t\tself.feature    \t = None\n",
    "\t\tself.prediction \t = None\n",
    "\t\tself.informationGain = 0\n",
    "\n",
    "\tdef isLeaf(self):\n",
    "\t\treturn self.prediction is not None\n",
    "\n",
    "class DecisionTree(object):\n",
    "\tdef __init__(self, maxDepth: int, entropy):\n",
    "\n",
    "\t\tself.entropy  = entropy\n",
    "\t\tself.maxDepth = maxDepth\n",
    "\t\tself.root     = None\n",
    "\n",
    "\tdef informationGain(self, X: pd.DataFrame, y: pd.Series, feature: str) -> float:\n",
    "\n",
    "\t\ttotalEntropy = self.entropy(y)\n",
    "\n",
    "\t\taverageEntropy = 0\n",
    "\n",
    "\t\tfor value in X[feature].unique():\n",
    "\t\t\tsubsetY = y[X[feature] == value]\n",
    "\n",
    "\t\t\taverageEntropy += (subsetY.size / y.size) * self.entropy(subsetY)\n",
    "\t\t\n",
    "\t\treturn totalEntropy - averageEntropy\n",
    "\n",
    "\tdef getBestFeature(self, X: pd.DataFrame, y: pd.Series, usedFeatures: set) -> tuple[str | None, float]:\n",
    "\n",
    "\t\tbestFeature = None\n",
    "\t\tbestGain    = 0\n",
    "\n",
    "\t\tfor feature in X.columns:\n",
    "\n",
    "\t\t\tif feature in usedFeatures:\n",
    "\t\t\t\tcontinue\n",
    "\n",
    "\t\t\tgain = self.informationGain(X, y, feature)\n",
    "\n",
    "\t\t\tif gain > bestGain:\n",
    "\t\t\t\tbestGain    = gain\n",
    "\t\t\t\tbestFeature = feature\n",
    "\n",
    "\t\treturn bestFeature, bestGain\n",
    "\n",
    "\tdef buildTree(self, X: pd.DataFrame, y: pd.Series, usedFeatures: set[str], depth: int) -> Node:\n",
    "\t\t\n",
    "\t\tif depth == self.maxDepth or len(usedFeatures) == X.columns.size:\n",
    "\t\t\tnode \t\t\t= Node()\n",
    "\t\t\tnode.prediction = y.mode().iloc[0]\n",
    "\n",
    "\t\t\treturn node\n",
    "\t\t\n",
    "\t\tbestFeature, bestGain = self.getBestFeature(X, y, usedFeatures)\n",
    "\n",
    "\t\tif bestFeature is None:\n",
    "\t\t\tnode \t\t\t= Node()\n",
    "\t\t\tnode.prediction = y.mode().iloc[0]\n",
    "\n",
    "\t\t\treturn node\n",
    "\t\t\n",
    "\t\tnode \t\t \t\t = Node()\n",
    "\t\tnode.feature \t\t = bestFeature\n",
    "\t\tnode.informationGain = bestGain\n",
    "\n",
    "\t\tusedFeatures =  usedFeatures | { bestFeature }\n",
    "\n",
    "\t\tfor value in X[bestFeature].unique():\n",
    "\n",
    "\t\t\tsubsetIndexes = X[bestFeature] == value\n",
    "\n",
    "\t\t\tsubsetX = X[subsetIndexes].drop(columns=[ bestFeature ])\n",
    "\t\t\tsubsetY = y[subsetIndexes]\n",
    "\n",
    "\t\t\tchild = self.buildTree(\n",
    "\t\t\t\tX \t\t     = subsetX,\n",
    "\t\t\t\ty \t\t\t = subsetY,\n",
    "\t\t\t\tusedFeatures = usedFeatures,\n",
    "\t\t\t\tdepth\t\t = depth + 1\n",
    "\t\t\t)\n",
    "\n",
    "\t\t\tnode.branches[value] = child\n",
    "\n",
    "\t\treturn node\n",
    "\n",
    "\tdef fit(self, X, y):\n",
    "\t\tself.root = self.buildTree(X, y, set(), 0)\n",
    "\n",
    "\tdef predictOne(self, node: Node, x: pd.Series) -> str:\n",
    "\t\t\n",
    "\t\twhile not node.isLeaf():\n",
    "\t\t\t\n",
    "\t\t\tfeature = node.feature\n",
    "\t\t\tvalue   = x.get(feature)\n",
    "\n",
    "\t\t\tif value in node.branches:\n",
    "\t\t\t\tnode = node.branches[value]\n",
    "\n",
    "\t\treturn node.prediction\n",
    "\n",
    "\tdef predict(self, X: pd.DataFrame)-> pd.Series:\n",
    "\t\treturn X.apply(lambda x: self.predictOne(self.root, x), axis = 1)\n",
    "\t\n",
    "\tdef totalInformationGain(self) -> float:\n",
    "\n",
    "\t\tdef traverse(node: Node) -> float:\n",
    "\t\t\tif node is None or node.isLeaf():\n",
    "\t\t\t\treturn 0.0\n",
    "\n",
    "\t\t\ttotalGain = node.informationGain\n",
    "\n",
    "\t\t\tfor child in node.branches.values():\n",
    "\t\t\t\ttotalGain += traverse(child)\n",
    "\n",
    "\t\t\treturn totalGain\n",
    "\n",
    "\t\tif self.root is None:\n",
    "\t\t\treturn 0.0\n",
    "\n",
    "\t\treturn traverse(self.root)"
   ]
  },
  {
   "cell_type": "code",
   "execution_count": 733,
   "id": "d21a1706",
   "metadata": {},
   "outputs": [],
   "source": [
    "def entropy(y: pd.Series) -> float:\n",
    "\todds = y.value_counts(normalize = True)\n",
    "\t\n",
    "\treturn - np.sum(odds * np.log2(odds))"
   ]
  },
  {
   "cell_type": "markdown",
   "id": "451459ff",
   "metadata": {},
   "source": [
    "# Função de cálculo das métricas"
   ]
  },
  {
   "cell_type": "code",
   "execution_count": 734,
   "id": "db2fc1dc",
   "metadata": {},
   "outputs": [],
   "source": [
    "def metrics(yTrue, yPred):\n",
    "\tacc  = accuracy_score(yTrue, yPred)\n",
    "\tprec = precision_score(yTrue, yPred, pos_label = 'acc', zero_division = 0)\n",
    "\trec  = recall_score(yTrue, yPred, pos_label = 'acc', zero_division = 0)  \n",
    "\tf1   = f1_score(yTrue, yPred, pos_label = 'acc', zero_division = 0)\n",
    "\t\n",
    "\tcm = confusion_matrix(yTrue, yPred, labels = ['acc', 'unacc'])\n",
    "\ttn = cm[1, 1]\n",
    "\tfp = cm[1, 0]\n",
    "\t\n",
    "\tspecificity = tn / (tn + fp)\n",
    "\t\n",
    "\treturn acc, prec, rec, specificity, f1"
   ]
  },
  {
   "cell_type": "markdown",
   "id": "682c6fca",
   "metadata": {},
   "source": [
    "# Holdout do dataset"
   ]
  },
  {
   "cell_type": "code",
   "execution_count": 735,
   "id": "de579d7f",
   "metadata": {},
   "outputs": [],
   "source": [
    "X = cars.drop(columns=['class'])\n",
    "y = cars['class']\n",
    "\n",
    "\n",
    "XTrain, XTest, yTrain, yTest = train_test_split(\n",
    "\tX,\n",
    "\ty,\n",
    "\ttrain_size   = 0.7,\n",
    "\tstratify     = y,\n",
    "\trandom_state = 42\n",
    ")"
   ]
  },
  {
   "cell_type": "code",
   "execution_count": 736,
   "id": "f0315e57",
   "metadata": {},
   "outputs": [
    {
     "name": "stdout",
     "output_type": "stream",
     "text": [
      "Amostras para treino: 1209\n",
      "Amostras para test:   519\n"
     ]
    }
   ],
   "source": [
    "print(\"Amostras para treino:\", yTrain.size)\n",
    "print(\"Amostras para test:  \", yTest.size)"
   ]
  },
  {
   "cell_type": "markdown",
   "id": "b0741084",
   "metadata": {},
   "source": [
    "# Treino usando KFold com K = 10"
   ]
  },
  {
   "cell_type": "code",
   "execution_count": 737,
   "id": "84567f1c",
   "metadata": {},
   "outputs": [],
   "source": [
    "kfold = StratifiedKFold(\n",
    "\tn_splits     = 10,\n",
    "\tshuffle      = True,\n",
    "\trandom_state = 42\n",
    ")"
   ]
  },
  {
   "cell_type": "code",
   "execution_count": 738,
   "id": "6a4de950",
   "metadata": {},
   "outputs": [],
   "source": [
    "trainMetrics = []"
   ]
  },
  {
   "cell_type": "code",
   "execution_count": null,
   "id": "9c202eee",
   "metadata": {},
   "outputs": [
    {
     "name": "stdout",
     "output_type": "stream",
     "text": [
      "0 Fold\n",
      "Ganho de informação : 1.857\n",
      "Acurácia            : 0.909\n",
      "Precisão            : 0.805\n",
      "Sensibilidade       : 0.917\n",
      "Especificidade      : 0.906\n",
      "F1-score            : 0.857\n",
      "\n",
      "\n",
      "1 Fold\n",
      "Ganho de informação : 1.822\n",
      "Acurácia            : 0.843\n",
      "Precisão            : 0.718\n",
      "Sensibilidade       : 0.778\n",
      "Especificidade      : 0.871\n",
      "F1-score            : 0.747\n",
      "\n",
      "\n",
      "2 Fold\n",
      "Ganho de informação : 1.875\n",
      "Acurácia            : 0.884\n",
      "Precisão            : 0.775\n",
      "Sensibilidade       : 0.861\n",
      "Especificidade      : 0.894\n",
      "F1-score            : 0.816\n",
      "\n",
      "\n",
      "3 Fold\n",
      "Ganho de informação : 1.879\n",
      "Acurácia            : 0.851\n",
      "Precisão            : 0.800\n",
      "Sensibilidade       : 0.667\n",
      "Especificidade      : 0.929\n",
      "F1-score            : 0.727\n",
      "\n",
      "\n",
      "4 Fold\n",
      "Ganho de informação : 1.838\n",
      "Acurácia            : 0.884\n",
      "Precisão            : 0.750\n",
      "Sensibilidade       : 0.917\n",
      "Especificidade      : 0.871\n",
      "F1-score            : 0.825\n",
      "\n",
      "\n",
      "5 Fold\n",
      "Ganho de informação : 1.835\n",
      "Acurácia            : 0.884\n",
      "Precisão            : 0.789\n",
      "Sensibilidade       : 0.833\n",
      "Especificidade      : 0.906\n",
      "F1-score            : 0.811\n",
      "\n",
      "\n",
      "6 Fold\n",
      "Ganho de informação : 1.857\n",
      "Acurácia            : 0.868\n",
      "Precisão            : 0.763\n",
      "Sensibilidade       : 0.806\n",
      "Especificidade      : 0.894\n",
      "F1-score            : 0.784\n",
      "\n",
      "\n",
      "7 Fold\n",
      "Ganho de informação : 1.848\n",
      "Acurácia            : 0.868\n",
      "Precisão            : 0.744\n",
      "Sensibilidade       : 0.865\n",
      "Especificidade      : 0.869\n",
      "F1-score            : 0.800\n",
      "\n",
      "\n",
      "8 Fold\n",
      "Ganho de informação : 1.858\n",
      "Acurácia            : 0.876\n",
      "Precisão            : 0.844\n",
      "Sensibilidade       : 0.730\n",
      "Especificidade      : 0.940\n",
      "F1-score            : 0.783\n",
      "\n",
      "\n",
      "9 Fold\n",
      "Ganho de informação : 1.812\n",
      "Acurácia            : 0.867\n",
      "Precisão            : 0.750\n",
      "Sensibilidade       : 0.833\n",
      "Especificidade      : 0.881\n",
      "F1-score            : 0.789\n",
      "\n",
      "\n"
     ]
    }
   ],
   "source": [
    "for i, (trainIdxFold, testIdxFold) in enumerate(kfold.split(XTrain, yTrain)):\n",
    "\t\n",
    "\tXTrainFold = XTrain.iloc[trainIdxFold]\n",
    "\tXTestFold  = XTrain.iloc[testIdxFold]\n",
    "\t\n",
    "\tyTrainFold = yTrain.iloc[trainIdxFold]\n",
    "\tyTestFold  = yTrain.iloc[testIdxFold]\n",
    "\n",
    "\tmodel = DecisionTree(maxDepth = 4, entropy = entropy)\n",
    "\tmodel.fit(XTrainFold, yTrainFold)\n",
    "\t\n",
    "\tyPred = model.predict(XTestFold)\n",
    "\n",
    "\tfoldMetrics \t\t = metrics(yTestFold, yPred)\n",
    "\tfoldMetrics          = list(foldMetrics)\n",
    "\ttotalInformationGain = model.totalInformationGain()\n",
    "\n",
    "\ttrainMetric = [totalInformationGain] + foldMetrics\n",
    "\n",
    "\ttrainMetrics.append(trainMetric)\n",
    "\n",
    "\tprint(f\"{i} Fold\")\n",
    "\tprint(f\"Ganho de informação : {trainMetric[0]:.3f}\")\n",
    "\tprint(f\"Acurácia            : {trainMetric[1]:.3f}\")\n",
    "\tprint(f\"Precisão            : {trainMetric[2]:.3f}\")\n",
    "\tprint(f\"Sensibilidade       : {trainMetric[3]:.3f}\")\n",
    "\tprint(f\"Especificidade      : {trainMetric[4]:.3f}\")\n",
    "\tprint(f\"F1-score            : {trainMetric[5]:.3f}\")\n",
    "\tprint(\"\\n\")\n"
   ]
  },
  {
   "cell_type": "markdown",
   "id": "319b05ee",
   "metadata": {},
   "source": [
    "Métrica de treino"
   ]
  },
  {
   "cell_type": "code",
   "execution_count": 740,
   "id": "52afdf71",
   "metadata": {},
   "outputs": [
    {
     "name": "stdout",
     "output_type": "stream",
     "text": [
      "Ganho de informação : 1.848\n",
      "Acurácia média      : 0.873\n",
      "Precisão média      : 0.774\n",
      "Sensibilidade média : 0.821\n",
      "Especificidade média: 0.896\n",
      "F1-score médio      : 0.794\n"
     ]
    }
   ],
   "source": [
    "trainMetrics = np.array(trainMetrics)\n",
    "\n",
    "print(f\"Ganho de informação : {trainMetrics[:, 0].mean():.3f}\")\n",
    "print(f\"Acurácia média      : {trainMetrics[:, 1].mean():.3f}\")\n",
    "print(f\"Precisão média      : {trainMetrics[:, 2].mean():.3f}\")\n",
    "print(f\"Sensibilidade média : {trainMetrics[:, 3].mean():.3f}\")\n",
    "print(f\"Especificidade média: {trainMetrics[:, 4].mean():.3f}\")\n",
    "print(f\"F1-score médio      : {trainMetrics[:, 5].mean():.3f}\")"
   ]
  },
  {
   "cell_type": "markdown",
   "id": "c44fb911",
   "metadata": {},
   "source": [
    "# Teste"
   ]
  },
  {
   "cell_type": "markdown",
   "id": "27097625",
   "metadata": {},
   "source": [
    "Construíndo a arvore com todos os dados de treino"
   ]
  },
  {
   "cell_type": "code",
   "execution_count": null,
   "id": "d9dae7f6",
   "metadata": {},
   "outputs": [],
   "source": [
    "model = DecisionTree(\n",
    "    maxDepth = 4,\n",
    "    entropy  = entropy\n",
    ")"
   ]
  },
  {
   "cell_type": "code",
   "execution_count": 742,
   "id": "49a7974a",
   "metadata": {},
   "outputs": [],
   "source": [
    "model.fit(\n",
    "    X = XTrain,\n",
    "    y = yTrain\n",
    ")"
   ]
  },
  {
   "cell_type": "markdown",
   "id": "bc59d1be",
   "metadata": {},
   "source": [
    "Predição do conjunto de teste"
   ]
  },
  {
   "cell_type": "code",
   "execution_count": 743,
   "id": "6b35d7eb",
   "metadata": {},
   "outputs": [],
   "source": [
    "yPredicted = model.predict(\n",
    "    X = XTest\n",
    ")"
   ]
  },
  {
   "cell_type": "markdown",
   "id": "07968798",
   "metadata": {},
   "source": [
    "Calculo das métricas"
   ]
  },
  {
   "cell_type": "code",
   "execution_count": 744,
   "id": "82a30d2e",
   "metadata": {},
   "outputs": [],
   "source": [
    "testMetrics = metrics(\n",
    "    yTrue = yTest,\n",
    "    yPred = yPredicted\n",
    ")\n",
    "testMetrics = list(testMetrics)"
   ]
  },
  {
   "cell_type": "code",
   "execution_count": 745,
   "id": "4e995e2c",
   "metadata": {},
   "outputs": [],
   "source": [
    "totalInformationGain = model.totalInformationGain()\n",
    "testMetrics \t\t = [totalInformationGain] + testMetrics"
   ]
  },
  {
   "cell_type": "markdown",
   "id": "aef9ad63",
   "metadata": {},
   "source": [
    "## Resultados"
   ]
  },
  {
   "cell_type": "code",
   "execution_count": 746,
   "id": "e3aaa820",
   "metadata": {},
   "outputs": [
    {
     "name": "stdout",
     "output_type": "stream",
     "text": [
      "Ganho de informação : 1.831\n",
      "Acurácia            : 0.902\n",
      "Precisão            : 0.814\n",
      "Sensibilidade       : 0.872\n",
      "Especificidade      : 0.915\n",
      "F1-score            : 0.842\n"
     ]
    }
   ],
   "source": [
    "print(f\"Ganho de informação : {testMetrics[0]:.3f}\")\n",
    "print(f\"Acurácia            : {testMetrics[1]:.3f}\")\n",
    "print(f\"Precisão            : {testMetrics[2]:.3f}\")\n",
    "print(f\"Sensibilidade       : {testMetrics[3]:.3f}\")\n",
    "print(f\"Especificidade      : {testMetrics[4]:.3f}\")\n",
    "print(f\"F1-score            : {testMetrics[5]:.3f}\")"
   ]
  }
 ],
 "metadata": {
  "kernelspec": {
   "display_name": ".venv",
   "language": "python",
   "name": "python3"
  },
  "language_info": {
   "codemirror_mode": {
    "name": "ipython",
    "version": 3
   },
   "file_extension": ".py",
   "mimetype": "text/x-python",
   "name": "python",
   "nbconvert_exporter": "python",
   "pygments_lexer": "ipython3",
   "version": "3.13.0"
  }
 },
 "nbformat": 4,
 "nbformat_minor": 5
}
